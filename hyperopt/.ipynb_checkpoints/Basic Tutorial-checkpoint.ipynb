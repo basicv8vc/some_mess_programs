{
 "cells": [
  {
   "cell_type": "code",
   "execution_count": 1,
   "metadata": {
    "collapsed": false,
    "nbpresent": {
     "id": "921e4eda-529a-4257-ae77-cdf9c8d04a07"
    }
   },
   "outputs": [],
   "source": [
    "from hyperopt import fmin, tpe, hp"
   ]
  },
  {
   "cell_type": "code",
   "execution_count": null,
   "metadata": {
    "collapsed": true,
    "nbpresent": {
     "id": "77fef9d0-ccb1-415f-8729-35a1255fd239"
    }
   },
   "outputs": [],
   "source": []
  },
  {
   "cell_type": "markdown",
   "metadata": {
    "nbpresent": {
     "id": "e72c4192-0a5a-4f8c-a931-05d452f8a3c3"
    }
   },
   "source": [
    "# 定义最小化的目标函数"
   ]
  },
  {
   "cell_type": "markdown",
   "metadata": {
    "nbpresent": {
     "id": "4f0d32d3-9022-4908-904c-d6261f0ed537"
    }
   },
   "source": [
    "## 1.1 基本示例"
   ]
  },
  {
   "cell_type": "code",
   "execution_count": 2,
   "metadata": {
    "collapsed": false,
    "nbpresent": {
     "id": "82fcb19b-bb26-438f-943f-4db584585771"
    }
   },
   "outputs": [
    {
     "name": "stdout",
     "output_type": "stream",
     "text": [
      "{'x': -0.0005010373533751999}\n"
     ]
    }
   ],
   "source": [
    "best = fmin(fn=lambda x: x**2,\n",
    "           space=hp.uniform('x', -10, 10),\n",
    "           algo=tpe.suggest,\n",
    "           max_evals=100)\n",
    "print best"
   ]
  },
  {
   "cell_type": "code",
   "execution_count": null,
   "metadata": {
    "collapsed": false,
    "nbpresent": {
     "id": "30cb621d-4333-45b8-a941-3742ad218e15"
    }
   },
   "outputs": [],
   "source": []
  },
  {
   "cell_type": "markdown",
   "metadata": {
    "collapsed": false,
    "nbpresent": {
     "id": "5e57d20f-d648-4e4e-94f9-b53cb758114d"
    }
   },
   "source": [
    "## 1.2 返回额外信息"
   ]
  },
  {
   "cell_type": "markdown",
   "metadata": {
    "collapsed": false,
    "nbpresent": {
     "id": "fff10d54-0dd9-4109-a5fb-805f23340666"
    }
   },
   "source": [
    "如果目标函数很复杂，我们当然希望不仅能输出最终的参数值，最好能输出一些额外的统计信息。可以返回dict，\n",
    "\n"
   ]
  },
  {
   "cell_type": "code",
   "execution_count": 3,
   "metadata": {
    "collapsed": true,
    "nbpresent": {
     "id": "0a618f35-89dc-4bcc-989e-68d08159780a"
    }
   },
   "outputs": [],
   "source": [
    "import pickle\n",
    "import time\n",
    "from hyperopt import fmin, tpe, hp, STATUS_OK"
   ]
  },
  {
   "cell_type": "code",
   "execution_count": 4,
   "metadata": {
    "collapsed": true,
    "nbpresent": {
     "id": "1540e3cf-3c44-4f17-9d6a-db0e8f219f45"
    }
   },
   "outputs": [],
   "source": [
    "def objective(x):\n",
    "    return {'loss': x**2, 'status': STATUS_OK}"
   ]
  },
  {
   "cell_type": "code",
   "execution_count": 5,
   "metadata": {
    "collapsed": true,
    "nbpresent": {
     "id": "78dba0cd-39be-4685-bf76-d10c332d77d9"
    }
   },
   "outputs": [],
   "source": [
    "best = fmin(objective,\n",
    "           space=hp.uniform('x', -10, 10),\n",
    "           algo=tpe.suggest,\n",
    "           max_evals=100)"
   ]
  },
  {
   "cell_type": "code",
   "execution_count": 6,
   "metadata": {
    "collapsed": false,
    "nbpresent": {
     "id": "3cbf0292-4000-4814-bf28-b69a1ce851a1"
    }
   },
   "outputs": [
    {
     "name": "stdout",
     "output_type": "stream",
     "text": [
      "{'x': -0.007088277117171221}\n"
     ]
    }
   ],
   "source": [
    "print best"
   ]
  },
  {
   "cell_type": "code",
   "execution_count": null,
   "metadata": {
    "collapsed": true,
    "nbpresent": {
     "id": "2b94cd71-c32e-43a2-9b6d-b7e5f82b7dc0"
    }
   },
   "outputs": [],
   "source": []
  },
  {
   "cell_type": "markdown",
   "metadata": {
    "collapsed": true,
    "nbpresent": {
     "id": "4a7f75c4-ab55-429b-84d3-003a6c2edc32"
    }
   },
   "source": [
    "## 1.3 Trials"
   ]
  },
  {
   "cell_type": "markdown",
   "metadata": {
    "collapsed": true,
    "nbpresent": {
     "id": "73fa7d58-47dd-437b-b776-7982f9129db7"
    }
   },
   "source": [
    "我们继续修改目标函数，返回更多信息，并且传递trials参数给fmin。"
   ]
  },
  {
   "cell_type": "code",
   "execution_count": 7,
   "metadata": {
    "collapsed": true,
    "nbpresent": {
     "id": "a729f66d-91fa-4690-8a31-bf5256522198"
    }
   },
   "outputs": [],
   "source": [
    "import pickle\n",
    "import time\n",
    "from hyperopt import fmin, tpe, hp, STATUS_OK, Trials"
   ]
  },
  {
   "cell_type": "code",
   "execution_count": 12,
   "metadata": {
    "collapsed": true,
    "nbpresent": {
     "id": "4346425c-3bba-488f-bbf4-7cab9aa5b76c"
    }
   },
   "outputs": [],
   "source": [
    "def objective(x):\n",
    "    return {\n",
    "        'loss': x ** 2,\n",
    "        'status': STATUS_OK,\n",
    "        # --- store other results like this\n",
    "        'eval_time': time.time(),\n",
    "        'other_stuff': {'type': None, 'value': [0, 1, 2]},\n",
    "        # --  attachments are handled differently\n",
    "        'attachments':\n",
    "            {'time_module': pickle.dumps(time.time)}\n",
    "    }\n",
    "\n",
    "trials = Trials()\n",
    "best = fmin(objective,\n",
    "            space=hp.uniform('x', -10, 10),\n",
    "            algo=tpe.suggest,\n",
    "            max_evals=100,\n",
    "            trials=trials\n",
    "           )"
   ]
  },
  {
   "cell_type": "code",
   "execution_count": 13,
   "metadata": {
    "collapsed": false,
    "nbpresent": {
     "id": "290a0dc2-3abf-485f-b15c-a25ec8e69768"
    }
   },
   "outputs": [
    {
     "name": "stdout",
     "output_type": "stream",
     "text": [
      "{'x': 0.04052102688590224}\n"
     ]
    }
   ],
   "source": [
    "print best"
   ]
  },
  {
   "cell_type": "markdown",
   "metadata": {
    "nbpresent": {
     "id": "4fe452e2-6399-44ce-a2a2-83b1cafcaecf"
    }
   },
   "source": [
    "我们给fmin传递了trials参数，"
   ]
  },
  {
   "cell_type": "code",
   "execution_count": null,
   "metadata": {
    "collapsed": true,
    "nbpresent": {
     "id": "8814e23f-2084-4c0e-96a7-f86cbf02ac4f"
    }
   },
   "outputs": [],
   "source": []
  },
  {
   "cell_type": "markdown",
   "metadata": {
    "nbpresent": {
     "id": "835c5da3-64d8-4692-9b38-a1fa222027a3"
    }
   },
   "source": [
    "# 2 定义搜索空间"
   ]
  },
  {
   "cell_type": "code",
   "execution_count": 14,
   "metadata": {
    "collapsed": true,
    "nbpresent": {
     "id": "c6af40f5-0a9e-475b-95e3-a4ff0198811f"
    }
   },
   "outputs": [],
   "source": [
    "from hyperopt import hp"
   ]
  },
  {
   "cell_type": "code",
   "execution_count": 15,
   "metadata": {
    "collapsed": true,
    "nbpresent": {
     "id": "d6c7cdd7-3148-48be-98f6-2d48290baf7d"
    }
   },
   "outputs": [],
   "source": [
    "space = hp.choice('a',\n",
    "                 [\n",
    "        ('case 1', 1 + hp.lognormal('c1', 0, 1)),\n",
    "        ('case 2', hp.uniform('c2', -10, 10))\n",
    "    ])"
   ]
  },
  {
   "cell_type": "code",
   "execution_count": null,
   "metadata": {
    "collapsed": true,
    "nbpresent": {
     "id": "124952d6-cc86-4a94-977d-8f557905ba35"
    }
   },
   "outputs": [],
   "source": []
  },
  {
   "cell_type": "markdown",
   "metadata": {
    "nbpresent": {
     "id": "9cdafc5f-3683-4e7a-be4f-ee5e76b8226c"
    }
   },
   "source": [
    "## 2.2 解释sklearn实例"
   ]
  },
  {
   "cell_type": "code",
   "execution_count": 16,
   "metadata": {
    "collapsed": true,
    "nbpresent": {
     "id": "fe3267f8-e322-4709-9f20-d2b598048243"
    }
   },
   "outputs": [],
   "source": [
    "from hyperopt import hp"
   ]
  },
  {
   "cell_type": "code",
   "execution_count": 22,
   "metadata": {
    "collapsed": true,
    "nbpresent": {
     "id": "c15e97c4-4f07-4319-aca3-cc82b2465203"
    }
   },
   "outputs": [],
   "source": [
    "space = hp.choice('classifier_type', [\n",
    "        {\n",
    "            'type': 'naive_bayes'\n",
    "        },\n",
    "        {\n",
    "            'type': 'svm',\n",
    "            'C': hp.lognormal('svm_C', 0, 1),\n",
    "            'kernel': hp.choice('svm_kernel', [\n",
    "                    {'ktype': 'linear'},\n",
    "                    {'ktype': 'RBF', 'width': hp.lognormal('svm_rbf_width', 0, 1)}\n",
    "                ])\n",
    "        },\n",
    "        {\n",
    "            'type': 'dtree',\n",
    "            'criterion': hp.choice('dtree_criterion', ['gini', 'entropy']),\n",
    "            'max_depth': hp.choice('dtree_max_depth',\n",
    "                                  [None, hp.qlognormal('dtree_max_depth_int', 3, 1, 1)]),\n",
    "            'min_samples_split': hp.qlognormal('dtree_min_samples_split', 2, 1, 1)\n",
    "        }\n",
    "    ])"
   ]
  },
  {
   "cell_type": "code",
   "execution_count": null,
   "metadata": {
    "collapsed": true,
    "nbpresent": {
     "id": "4a8beb75-e78d-4a16-9b53-8c6a8e2488f8"
    }
   },
   "outputs": [],
   "source": []
  },
  {
   "cell_type": "code",
   "execution_count": null,
   "metadata": {
    "collapsed": true
   },
   "outputs": [],
   "source": []
  },
  {
   "cell_type": "code",
   "execution_count": null,
   "metadata": {
    "collapsed": true
   },
   "outputs": [],
   "source": []
  },
  {
   "cell_type": "code",
   "execution_count": null,
   "metadata": {
    "collapsed": true
   },
   "outputs": [],
   "source": []
  },
  {
   "cell_type": "code",
   "execution_count": null,
   "metadata": {
    "collapsed": true
   },
   "outputs": [],
   "source": []
  },
  {
   "cell_type": "code",
   "execution_count": null,
   "metadata": {
    "collapsed": true
   },
   "outputs": [],
   "source": []
  }
 ],
 "metadata": {
  "anaconda-cloud": {},
  "kernelspec": {
   "display_name": "Python [Root]",
   "language": "python",
   "name": "Python [Root]"
  },
  "language_info": {
   "codemirror_mode": {
    "name": "ipython",
    "version": 2
   },
   "file_extension": ".py",
   "mimetype": "text/x-python",
   "name": "python",
   "nbconvert_exporter": "python",
   "pygments_lexer": "ipython2",
   "version": "2.7.12"
  },
  "nbpresent": {
   "slides": {
    "19867f4d-51a9-4d55-a850-178c4462ac71": {
     "id": "19867f4d-51a9-4d55-a850-178c4462ac71",
     "prev": null,
     "regions": {
      "1466e51c-10b9-4230-b983-7bc2074d1a7e": {
       "attrs": {
        "height": 0.8,
        "width": 0.45,
        "x": 0.5,
        "y": 0.1
       },
       "id": "1466e51c-10b9-4230-b983-7bc2074d1a7e"
      },
      "6730e1d4-c6d0-425d-9a23-877543b81ae7": {
       "attrs": {
        "height": 0.8,
        "width": 0.45,
        "x": 0.05,
        "y": 0.1
       },
       "id": "6730e1d4-c6d0-425d-9a23-877543b81ae7"
      }
     }
    }
   },
   "themes": {}
  }
 },
 "nbformat": 4,
 "nbformat_minor": 0
}
