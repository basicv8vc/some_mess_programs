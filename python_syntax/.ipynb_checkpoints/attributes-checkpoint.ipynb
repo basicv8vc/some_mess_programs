{
 "cells": [
  {
   "cell_type": "markdown",
   "metadata": {
    "deletable": true,
    "editable": true
   },
   "source": [
    "blog.lerner.co.il/python-attributes\n",
    "\n",
    "Python中任何对象都有属性，你可以用内置的dir函数来获取对象的属性："
   ]
  },
  {
   "cell_type": "code",
   "execution_count": 1,
   "metadata": {
    "collapsed": false,
    "deletable": true,
    "editable": true
   },
   "outputs": [
    {
     "name": "stdout",
     "output_type": "stream",
     "text": [
      "71\n",
      "['__add__', '__class__', '__contains__', '__delattr__', '__doc__']\n"
     ]
    }
   ],
   "source": [
    "s = 'abc'\n",
    "print len(dir(s))\n",
    "print dir(s)[:5]"
   ]
  },
  {
   "cell_type": "code",
   "execution_count": 3,
   "metadata": {
    "collapsed": false,
    "deletable": true,
    "editable": true
   },
   "outputs": [
    {
     "name": "stdout",
     "output_type": "stream",
     "text": [
      "64\n",
      "['__abs__', '__add__', '__and__', '__class__', '__cmp__']\n"
     ]
    }
   ],
   "source": [
    "i = 123\n",
    "print len(dir(i))\n",
    "print dir(i)[:5]"
   ]
  },
  {
   "cell_type": "code",
   "execution_count": 4,
   "metadata": {
    "collapsed": false,
    "deletable": true,
    "editable": true
   },
   "outputs": [
    {
     "name": "stdout",
     "output_type": "stream",
     "text": [
      "['__add__', '__class__', '__contains__', '__delattr__', '__doc__']\n"
     ]
    }
   ],
   "source": [
    "t = (1, 2, 3)\n",
    "len(dir(t))\n",
    "print dir(t)[:5]"
   ]
  },
  {
   "cell_type": "markdown",
   "metadata": {
    "deletable": true,
    "editable": true
   },
   "source": [
    "函数也是对象："
   ]
  },
  {
   "cell_type": "code",
   "execution_count": 7,
   "metadata": {
    "collapsed": false,
    "deletable": true,
    "editable": true
   },
   "outputs": [
    {
     "name": "stdout",
     "output_type": "stream",
     "text": [
      "hi there!\n"
     ]
    }
   ],
   "source": [
    "def hello():\n",
    "    return 'hello'\n",
    "hello.abc_def = 'hi there!'\n",
    "print hello.abc_def"
   ]
  },
  {
   "cell_type": "code",
   "execution_count": 8,
   "metadata": {
    "collapsed": false,
    "deletable": true,
    "editable": true
   },
   "outputs": [
    {
     "name": "stdout",
     "output_type": "stream",
     "text": [
      "32\n"
     ]
    }
   ],
   "source": [
    "print len(dir(hello))"
   ]
  },
  {
   "cell_type": "code",
   "execution_count": null,
   "metadata": {
    "collapsed": true,
    "deletable": true,
    "editable": true
   },
   "outputs": [],
   "source": []
  },
  {
   "cell_type": "code",
   "execution_count": null,
   "metadata": {
    "collapsed": true,
    "deletable": true,
    "editable": true
   },
   "outputs": [],
   "source": []
  },
  {
   "cell_type": "code",
   "execution_count": 9,
   "metadata": {
    "collapsed": true,
    "deletable": true,
    "editable": true
   },
   "outputs": [],
   "source": [
    "class MyClass:\n",
    "    def __init__(self, a , b):\n",
    "        self.a = a # 为对象创建属性a\n",
    "        self.b = b"
   ]
  },
  {
   "cell_type": "markdown",
   "metadata": {
    "deletable": true,
    "editable": true
   },
   "source": [
    "## 类属性和实例属性"
   ]
  },
  {
   "cell_type": "code",
   "execution_count": 13,
   "metadata": {
    "collapsed": false,
    "deletable": true,
    "editable": true
   },
   "outputs": [
    {
     "name": "stdout",
     "output_type": "stream",
     "text": [
      "1\n",
      "1\n",
      "0\n"
     ]
    }
   ],
   "source": [
    "class ClassA:\n",
    "    population = 0\n",
    "    \n",
    "    def __init__(self, a, b):\n",
    "        self.a = a\n",
    "        self.b = b\n",
    "        self.population += 1\n",
    "a = ClassA(\"1\", \"2\")\n",
    "b = ClassA(\"3\", \"4\")\n",
    "print a.population\n",
    "print b.population\n",
    "print ClassA.population"
   ]
  },
  {
   "cell_type": "code",
   "execution_count": 11,
   "metadata": {
    "collapsed": false,
    "deletable": true,
    "editable": true
   },
   "outputs": [
    {
     "name": "stdout",
     "output_type": "stream",
     "text": [
      "['12', '34']\n",
      "['12', '34']\n",
      "['12', '34']\n"
     ]
    }
   ],
   "source": [
    "class ClassB:\n",
    "    l = []\n",
    "    \n",
    "    def __init__(self, a, b):\n",
    "        self.a = a\n",
    "        self.b = b\n",
    "        self.l.append(a+b)\n",
    "a = ClassB(\"1\", \"2\")\n",
    "b = ClassB(\"3\", \"4\")\n",
    "print a.l\n",
    "print b.l\n",
    "print ClassB.l"
   ]
  },
  {
   "cell_type": "code",
   "execution_count": 20,
   "metadata": {
    "collapsed": false,
    "deletable": true,
    "editable": true
   },
   "outputs": [
    {
     "name": "stdout",
     "output_type": "stream",
     "text": [
      "blank_1\n",
      "blank_3\n",
      "blank_\n"
     ]
    }
   ],
   "source": [
    "class ClassC:\n",
    "    str = \"blank_\"\n",
    "    \n",
    "    def __init__(self, a, b):\n",
    "        self.a = a\n",
    "        self.b = b\n",
    "        self.str += a\n",
    "a = ClassC(\"1\", \"2\")\n",
    "b = ClassC(\"3\", \"4\")\n",
    "print a.str\n",
    "print b.str\n",
    "print ClassC.str"
   ]
  },
  {
   "cell_type": "code",
   "execution_count": null,
   "metadata": {
    "collapsed": false,
    "deletable": true,
    "editable": true
   },
   "outputs": [],
   "source": []
  },
  {
   "cell_type": "code",
   "execution_count": 25,
   "metadata": {
    "collapsed": false,
    "deletable": true,
    "editable": true
   },
   "outputs": [
    {
     "name": "stdout",
     "output_type": "stream",
     "text": [
      "['__add__', '__class__', '__contains__', '__delattr__', '__doc__', '__eq__', '__format__', '__ge__', '__getattribute__', '__getitem__', '__getnewargs__', '__getslice__', '__gt__', '__hash__', '__init__', '__iter__', '__le__', '__len__', '__lt__', '__mul__', '__ne__', '__new__', '__reduce__', '__reduce_ex__', '__repr__', '__rmul__', '__setattr__', '__sizeof__', '__str__', '__subclasshook__', 'count', 'index']\n"
     ]
    }
   ],
   "source": [
    "print dir(tuple)"
   ]
  },
  {
   "cell_type": "code",
   "execution_count": 73,
   "metadata": {
    "collapsed": false,
    "deletable": true,
    "editable": true
   },
   "outputs": [
    {
     "name": "stdout",
     "output_type": "stream",
     "text": [
      "['_C__init', '__doc__', '__module__', 'func', 'population']\n"
     ]
    }
   ],
   "source": [
    "class CCC:\n",
    "    population = 0\n",
    "    \n",
    "    def __init__(self):\n",
    "        self.attri = 2\n",
    "        self.population += 1\n",
    "    def func(self):\n",
    "        pass\n",
    "print dir(C)"
   ]
  },
  {
   "cell_type": "code",
   "execution_count": 74,
   "metadata": {
    "collapsed": false,
    "deletable": true,
    "editable": true
   },
   "outputs": [
    {
     "name": "stdout",
     "output_type": "stream",
     "text": [
      "['__doc__', '__init__', '__module__', 'attri', 'func', 'population']\n",
      "['__doc__', '__init__', '__module__', 'attri', 'func', 'population']\n"
     ]
    }
   ],
   "source": [
    "c1 = CCC()\n",
    "print dir(c1)\n",
    "\n",
    "c2 = CCC()\n",
    "print dir(c2)"
   ]
  },
  {
   "cell_type": "code",
   "execution_count": 76,
   "metadata": {
    "collapsed": false,
    "deletable": true,
    "editable": true
   },
   "outputs": [
    {
     "name": "stdout",
     "output_type": "stream",
     "text": [
      "2\n",
      "1\n",
      "1\n",
      "0\n"
     ]
    }
   ],
   "source": [
    "print c1.attri\n",
    "print c1.population\n",
    "print c2.population\n",
    "print CCC.population"
   ]
  },
  {
   "cell_type": "code",
   "execution_count": 77,
   "metadata": {
    "collapsed": false,
    "deletable": true,
    "editable": true
   },
   "outputs": [
    {
     "name": "stdout",
     "output_type": "stream",
     "text": [
      "1 2\n"
     ]
    }
   ],
   "source": [
    "a = 1\n",
    "b = a\n",
    "b = 2\n",
    "print a, b"
   ]
  },
  {
   "cell_type": "code",
   "execution_count": 78,
   "metadata": {
    "collapsed": false,
    "deletable": true,
    "editable": true
   },
   "outputs": [
    {
     "name": "stdout",
     "output_type": "stream",
     "text": [
      "['a'] ['a']\n"
     ]
    }
   ],
   "source": [
    "l = []\n",
    "l2 = l\n",
    "l2.append('a')\n",
    "print l, l2"
   ]
  },
  {
   "cell_type": "code",
   "execution_count": 79,
   "metadata": {
    "collapsed": false
   },
   "outputs": [
    {
     "name": "stdout",
     "output_type": "stream",
     "text": [
      "ccc abc\n"
     ]
    }
   ],
   "source": [
    "s1 =\"abc\"\n",
    "s2 = s1\n",
    "s2 = \"ccc\"\n",
    "print s2, s1"
   ]
  },
  {
   "cell_type": "code",
   "execution_count": null,
   "metadata": {
    "collapsed": true
   },
   "outputs": [],
   "source": []
  }
 ],
 "metadata": {
  "kernelspec": {
   "display_name": "Python 2",
   "language": "python",
   "name": "python2"
  },
  "language_info": {
   "codemirror_mode": {
    "name": "ipython",
    "version": 2
   },
   "file_extension": ".py",
   "mimetype": "text/x-python",
   "name": "python",
   "nbconvert_exporter": "python",
   "pygments_lexer": "ipython2",
   "version": "2.7.12"
  }
 },
 "nbformat": 4,
 "nbformat_minor": 2
}
