{
 "cells": [
  {
   "cell_type": "markdown",
   "metadata": {},
   "source": [
    "# Tips on Collections"
   ]
  },
  {
   "cell_type": "markdown",
   "metadata": {},
   "source": [
    "## 检查list是否为空"
   ]
  },
  {
   "cell_type": "markdown",
   "metadata": {},
   "source": [
    "如果list是空，if 会返回False"
   ]
  },
  {
   "cell_type": "code",
   "execution_count": null,
   "metadata": {
    "collapsed": true
   },
   "outputs": [],
   "source": [
    "# 普通的方法\n",
    "if len(mylist):\n",
    "    # do something with mylist\n",
    "else:\n",
    "    # The list is empty\n",
    "\n",
    "# better way\n",
    "if mylist:\n",
    "    # do sth with mylsit\n",
    "else:\n",
    "    # The list is empty\n",
    "    "
   ]
  },
  {
   "cell_type": "markdown",
   "metadata": {},
   "source": [
    "## 遍历list时返回下标索引"
   ]
  },
  {
   "cell_type": "code",
   "execution_count": null,
   "metadata": {
    "collapsed": true
   },
   "outputs": [],
   "source": [
    "# 普通的方法\n",
    "index = 0\n",
    "for item in mylist:\n",
    "    print index\n",
    "    index += 1\n",
    "    \n",
    "# better way\n",
    "for index, item in enumerate(mylist):\n",
    "    pass\n",
    "    "
   ]
  },
  {
   "cell_type": "markdown",
   "metadata": {},
   "source": [
    "## 对list排序"
   ]
  },
  {
   "cell_type": "code",
   "execution_count": 3,
   "metadata": {
    "collapsed": true
   },
   "outputs": [],
   "source": [
    "class Person(object):\n",
    "    def __init__(self, age):\n",
    "        self.age = age\n",
    "\n",
    "persons = [Person(age) for age in (14, 78, 42)]\n"
   ]
  },
  {
   "cell_type": "markdown",
   "metadata": {},
   "source": [
    "根据年龄对list排序"
   ]
  },
  {
   "cell_type": "code",
   "execution_count": 4,
   "metadata": {
    "collapsed": false
   },
   "outputs": [
    {
     "name": "stdout",
     "output_type": "stream",
     "text": [
      "Age: 14\n",
      "Age: 42\n",
      "Age: 78\n"
     ]
    }
   ],
   "source": [
    "# 普通方式\n",
    "def get_sort_key(element):\n",
    "    return element.age\n",
    "\n",
    "for element in sorted(persons, key=get_sort_key):\n",
    "    print \"Age:\", element.age\n"
   ]
  },
  {
   "cell_type": "code",
   "execution_count": 5,
   "metadata": {
    "collapsed": false
   },
   "outputs": [
    {
     "name": "stdout",
     "output_type": "stream",
     "text": [
      "Age: 14\n",
      "Age: 42\n",
      "Age: 78\n"
     ]
    }
   ],
   "source": [
    "# better way\n",
    "from operator import attrgetter\n",
    "# attrgetter 是一个高阶函数，\n",
    "for element in sorted(persons, key=attrgetter('age')):\n",
    "    print \"Age:\", element.age"
   ]
  },
  {
   "cell_type": "markdown",
   "metadata": {},
   "source": []
  },
  {
   "cell_type": "code",
   "execution_count": null,
   "metadata": {
    "collapsed": true
   },
   "outputs": [],
   "source": []
  }
 ],
 "metadata": {
  "kernelspec": {
   "display_name": "Python 2",
   "language": "python",
   "name": "python2"
  },
  "language_info": {
   "codemirror_mode": {
    "name": "ipython",
    "version": 2
   },
   "file_extension": ".py",
   "mimetype": "text/x-python",
   "name": "python",
   "nbconvert_exporter": "python",
   "pygments_lexer": "ipython2",
   "version": "2.7.12"
  }
 },
 "nbformat": 4,
 "nbformat_minor": 2
}
