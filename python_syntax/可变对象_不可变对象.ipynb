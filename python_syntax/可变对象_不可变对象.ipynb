{
 "cells": [
  {
   "cell_type": "markdown",
   "metadata": {},
   "source": [
    "Python是一门面向对象的语言。\n",
    "\n",
    "但是，Python中对象分为可变对象和不可变对象。"
   ]
  },
  {
   "cell_type": "code",
   "execution_count": 1,
   "metadata": {
    "collapsed": false
   },
   "outputs": [
    {
     "name": "stdout",
     "output_type": "stream",
     "text": [
      "140257700893880 140257700893880\n",
      "True\n"
     ]
    }
   ],
   "source": [
    "i = 1\n",
    "j = 1\n",
    "print id(i), id(j)\n",
    "print i is j"
   ]
  },
  {
   "cell_type": "code",
   "execution_count": 2,
   "metadata": {
    "collapsed": false
   },
   "outputs": [
    {
     "name": "stdout",
     "output_type": "stream",
     "text": [
      "140257700893880 140257700893856\n",
      "False\n"
     ]
    }
   ],
   "source": [
    "j += 1\n",
    "print id(i), id(j)\n",
    "print i is j"
   ]
  },
  {
   "cell_type": "markdown",
   "metadata": {},
   "source": [
    " "
   ]
  },
  {
   "cell_type": "markdown",
   "metadata": {},
   "source": [
    "# 可变对象"
   ]
  },
  {
   "cell_type": "code",
   "execution_count": 3,
   "metadata": {
    "collapsed": false
   },
   "outputs": [
    {
     "name": "stdout",
     "output_type": "stream",
     "text": [
      "4355884528 4355884528\n",
      "True\n"
     ]
    }
   ],
   "source": [
    "l1 = [1]\n",
    "l2 = l1\n",
    "print id(l1), id(l2)\n",
    "print l1 is l2"
   ]
  },
  {
   "cell_type": "code",
   "execution_count": 5,
   "metadata": {
    "collapsed": false
   },
   "outputs": [
    {
     "name": "stdout",
     "output_type": "stream",
     "text": [
      "4355884528 4355884528\n",
      "True\n"
     ]
    }
   ],
   "source": [
    "l2.append(2)\n",
    "print id(l1), id(l2)\n",
    "print l1 is l2"
   ]
  },
  {
   "cell_type": "code",
   "execution_count": null,
   "metadata": {
    "collapsed": true
   },
   "outputs": [],
   "source": []
  },
  {
   "cell_type": "code",
   "execution_count": 7,
   "metadata": {
    "collapsed": false
   },
   "outputs": [
    {
     "name": "stdout",
     "output_type": "stream",
     "text": [
      "140257700893856\n",
      "140257700893880\n",
      "140257700893856\n"
     ]
    }
   ],
   "source": [
    "def func(arg):\n",
    "    print id(arg)\n",
    "    arg -= 1\n",
    "    print id(arg)\n",
    "\n",
    "a = 2\n",
    "func(a)\n",
    "print id(a)"
   ]
  },
  {
   "cell_type": "code",
   "execution_count": null,
   "metadata": {
    "collapsed": true
   },
   "outputs": [],
   "source": []
  },
  {
   "cell_type": "code",
   "execution_count": 8,
   "metadata": {
    "collapsed": false
   },
   "outputs": [
    {
     "name": "stdout",
     "output_type": "stream",
     "text": [
      "4355884240\n",
      "4355884240\n",
      "4355884240\n"
     ]
    }
   ],
   "source": [
    "def func(arg):\n",
    "    print id(arg)\n",
    "    arg.append(1)\n",
    "    print id(arg)\n",
    "\n",
    "a = [2]\n",
    "func(a)\n",
    "print id(a)"
   ]
  },
  {
   "cell_type": "code",
   "execution_count": null,
   "metadata": {
    "collapsed": true
   },
   "outputs": [],
   "source": []
  }
 ],
 "metadata": {
  "kernelspec": {
   "display_name": "Python 2",
   "language": "python",
   "name": "python2"
  },
  "language_info": {
   "codemirror_mode": {
    "name": "ipython",
    "version": 2
   },
   "file_extension": ".py",
   "mimetype": "text/x-python",
   "name": "python",
   "nbconvert_exporter": "python",
   "pygments_lexer": "ipython2",
   "version": "2.7.12"
  }
 },
 "nbformat": 4,
 "nbformat_minor": 2
}
